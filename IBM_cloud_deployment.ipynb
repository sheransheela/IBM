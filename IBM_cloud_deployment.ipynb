{
  "nbformat": 4,
  "nbformat_minor": 0,
  "metadata": {
    "colab": {
      "provenance": []
    },
    "kernelspec": {
      "name": "python3",
      "display_name": "Python 3"
    },
    "language_info": {
      "name": "python"
    }
  },
  "cells": [
    {
      "cell_type": "markdown",
      "source": [
        "##SAVING THE MODEL"
      ],
      "metadata": {
        "id": "f3bTuuSXAUf7"
      }
    },
    {
      "cell_type": "code",
      "source": [
        "#saving the model\n",
        "model.save('realtime.h5')"
      ],
      "metadata": {
        "id": "tDXeRBOcIDoX",
        "outputId": "2070ffdf-52ae-45af-c446-e73cc2a43163",
        "colab": {
          "base_uri": "https://localhost:8080/",
          "height": 183
        }
      },
      "execution_count": 15,
      "outputs": [
        {
          "output_type": "error",
          "ename": "NameError",
          "evalue": "ignored",
          "traceback": [
            "\u001b[0;31m---------------------------------------------------------------------------\u001b[0m",
            "\u001b[0;31mNameError\u001b[0m                                 Traceback (most recent call last)",
            "\u001b[0;32m<ipython-input-15-28c9c2647546>\u001b[0m in \u001b[0;36m<module>\u001b[0;34m\u001b[0m\n\u001b[1;32m      1\u001b[0m \u001b[0;31m#saving the model\u001b[0m\u001b[0;34m\u001b[0m\u001b[0;34m\u001b[0m\u001b[0;34m\u001b[0m\u001b[0m\n\u001b[0;32m----> 2\u001b[0;31m \u001b[0mmodel\u001b[0m\u001b[0;34m.\u001b[0m\u001b[0msave\u001b[0m\u001b[0;34m(\u001b[0m\u001b[0;34m'realtime.h5'\u001b[0m\u001b[0;34m)\u001b[0m\u001b[0;34m\u001b[0m\u001b[0;34m\u001b[0m\u001b[0m\n\u001b[0m",
            "\u001b[0;31mNameError\u001b[0m: name 'model' is not defined"
          ]
        }
      ]
    },
    {
      "cell_type": "code",
      "source": [
        "#converting to tar\n",
        "!tar  -zcvf realtime.tgz realtime.h5"
      ],
      "metadata": {
        "colab": {
          "base_uri": "https://localhost:8080/"
        },
        "id": "_vf1fYFC03CE",
        "outputId": "3642bae1-4bc0-46fa-e4b2-d85936246ad4"
      },
      "execution_count": 2,
      "outputs": [
        {
          "output_type": "stream",
          "name": "stdout",
          "text": [
            "tar: realtime.h5: Cannot stat: No such file or directory\n",
            "tar: Exiting with failure status due to previous errors\n"
          ]
        }
      ]
    },
    {
      "cell_type": "markdown",
      "source": [
        "##CLOUD DEPLOYMENT\n"
      ],
      "metadata": {
        "id": "0dg3F8qH4PMP"
      }
    },
    {
      "cell_type": "code",
      "source": [
        "!pip install watson-machine-learning-client"
      ],
      "metadata": {
        "colab": {
          "base_uri": "https://localhost:8080/"
        },
        "id": "gQbqQpzc4Sfw",
        "outputId": "81963f05-10e9-46fd-f625-6a2b64073b96"
      },
      "execution_count": 4,
      "outputs": [
        {
          "output_type": "stream",
          "name": "stdout",
          "text": [
            "Looking in indexes: https://pypi.org/simple, https://us-python.pkg.dev/colab-wheels/public/simple/\n",
            "Collecting watson-machine-learning-client\n",
            "  Downloading watson_machine_learning_client-1.0.391-py3-none-any.whl (538 kB)\n",
            "\u001b[K     |████████████████████████████████| 538 kB 5.3 MB/s \n",
            "\u001b[?25hCollecting boto3\n",
            "  Downloading boto3-1.26.11-py3-none-any.whl (132 kB)\n",
            "\u001b[K     |████████████████████████████████| 132 kB 45.1 MB/s \n",
            "\u001b[?25hRequirement already satisfied: requests in /usr/local/lib/python3.7/dist-packages (from watson-machine-learning-client) (2.23.0)\n",
            "Requirement already satisfied: tabulate in /usr/local/lib/python3.7/dist-packages (from watson-machine-learning-client) (0.8.10)\n",
            "Collecting lomond\n",
            "  Downloading lomond-0.3.3-py2.py3-none-any.whl (35 kB)\n",
            "Requirement already satisfied: pandas in /usr/local/lib/python3.7/dist-packages (from watson-machine-learning-client) (1.3.5)\n",
            "Requirement already satisfied: certifi in /usr/local/lib/python3.7/dist-packages (from watson-machine-learning-client) (2022.9.24)\n",
            "Collecting ibm-cos-sdk\n",
            "  Downloading ibm-cos-sdk-2.12.0.tar.gz (55 kB)\n",
            "\u001b[K     |████████████████████████████████| 55 kB 3.2 MB/s \n",
            "\u001b[?25hRequirement already satisfied: urllib3 in /usr/local/lib/python3.7/dist-packages (from watson-machine-learning-client) (1.24.3)\n",
            "Requirement already satisfied: tqdm in /usr/local/lib/python3.7/dist-packages (from watson-machine-learning-client) (4.64.1)\n",
            "Collecting botocore<1.30.0,>=1.29.11\n",
            "  Downloading botocore-1.29.11-py3-none-any.whl (9.9 MB)\n",
            "\u001b[K     |████████████████████████████████| 9.9 MB 44.1 MB/s \n",
            "\u001b[?25hCollecting s3transfer<0.7.0,>=0.6.0\n",
            "  Downloading s3transfer-0.6.0-py3-none-any.whl (79 kB)\n",
            "\u001b[K     |████████████████████████████████| 79 kB 7.4 MB/s \n",
            "\u001b[?25hCollecting jmespath<2.0.0,>=0.7.1\n",
            "  Downloading jmespath-1.0.1-py3-none-any.whl (20 kB)\n",
            "Collecting urllib3\n",
            "  Downloading urllib3-1.26.12-py2.py3-none-any.whl (140 kB)\n",
            "\u001b[K     |████████████████████████████████| 140 kB 48.3 MB/s \n",
            "\u001b[?25hRequirement already satisfied: python-dateutil<3.0.0,>=2.1 in /usr/local/lib/python3.7/dist-packages (from botocore<1.30.0,>=1.29.11->boto3->watson-machine-learning-client) (2.8.2)\n",
            "Requirement already satisfied: six>=1.5 in /usr/local/lib/python3.7/dist-packages (from python-dateutil<3.0.0,>=2.1->botocore<1.30.0,>=1.29.11->boto3->watson-machine-learning-client) (1.15.0)\n",
            "Collecting ibm-cos-sdk-core==2.12.0\n",
            "  Downloading ibm-cos-sdk-core-2.12.0.tar.gz (956 kB)\n",
            "\u001b[K     |████████████████████████████████| 956 kB 55.5 MB/s \n",
            "\u001b[?25hCollecting ibm-cos-sdk-s3transfer==2.12.0\n",
            "  Downloading ibm-cos-sdk-s3transfer-2.12.0.tar.gz (135 kB)\n",
            "\u001b[K     |████████████████████████████████| 135 kB 53.9 MB/s \n",
            "\u001b[?25hCollecting jmespath<2.0.0,>=0.7.1\n",
            "  Downloading jmespath-0.10.0-py2.py3-none-any.whl (24 kB)\n",
            "Collecting requests\n",
            "  Downloading requests-2.28.1-py3-none-any.whl (62 kB)\n",
            "\u001b[K     |████████████████████████████████| 62 kB 1.4 MB/s \n",
            "\u001b[?25hRequirement already satisfied: idna<4,>=2.5 in /usr/local/lib/python3.7/dist-packages (from requests->watson-machine-learning-client) (2.10)\n",
            "Requirement already satisfied: charset-normalizer<3,>=2 in /usr/local/lib/python3.7/dist-packages (from requests->watson-machine-learning-client) (2.1.1)\n",
            "Requirement already satisfied: pytz>=2017.3 in /usr/local/lib/python3.7/dist-packages (from pandas->watson-machine-learning-client) (2022.6)\n",
            "Requirement already satisfied: numpy>=1.17.3 in /usr/local/lib/python3.7/dist-packages (from pandas->watson-machine-learning-client) (1.21.6)\n",
            "Building wheels for collected packages: ibm-cos-sdk, ibm-cos-sdk-core, ibm-cos-sdk-s3transfer\n",
            "  Building wheel for ibm-cos-sdk (setup.py) ... \u001b[?25l\u001b[?25hdone\n",
            "  Created wheel for ibm-cos-sdk: filename=ibm_cos_sdk-2.12.0-py3-none-any.whl size=73931 sha256=7a334d30e85e8ce35482f4159c3d32b1501d0fd7f92d95e0edfebfc74f8c2e3c\n",
            "  Stored in directory: /root/.cache/pip/wheels/ec/94/29/2b57327cf00664b6614304f7958abd29d77ea0e5bbece2ea57\n",
            "  Building wheel for ibm-cos-sdk-core (setup.py) ... \u001b[?25l\u001b[?25hdone\n",
            "  Created wheel for ibm-cos-sdk-core: filename=ibm_cos_sdk_core-2.12.0-py3-none-any.whl size=562962 sha256=97cfaa53f865590c7be31e6ca5eee37d39362aa1e9f69f9ea7c270f5d31362b1\n",
            "  Stored in directory: /root/.cache/pip/wheels/64/56/fb/5cd6f4f40406c828a5289b95b2752a4d142a9afb359244ed8d\n",
            "  Building wheel for ibm-cos-sdk-s3transfer (setup.py) ... \u001b[?25l\u001b[?25hdone\n",
            "  Created wheel for ibm-cos-sdk-s3transfer: filename=ibm_cos_sdk_s3transfer-2.12.0-py3-none-any.whl size=89778 sha256=b0db541b9baae703a2c7af20bbf42fe8fa6304c43090cf0d5342faf7b282f9a4\n",
            "  Stored in directory: /root/.cache/pip/wheels/57/79/6a/ffe3370ed7ebc00604f9f76766e1e0348dcdcad2b2e32df9e1\n",
            "Successfully built ibm-cos-sdk ibm-cos-sdk-core ibm-cos-sdk-s3transfer\n",
            "Installing collected packages: urllib3, requests, jmespath, ibm-cos-sdk-core, botocore, s3transfer, ibm-cos-sdk-s3transfer, lomond, ibm-cos-sdk, boto3, watson-machine-learning-client\n",
            "  Attempting uninstall: urllib3\n",
            "    Found existing installation: urllib3 1.24.3\n",
            "    Uninstalling urllib3-1.24.3:\n",
            "      Successfully uninstalled urllib3-1.24.3\n",
            "  Attempting uninstall: requests\n",
            "    Found existing installation: requests 2.23.0\n",
            "    Uninstalling requests-2.23.0:\n",
            "      Successfully uninstalled requests-2.23.0\n",
            "Successfully installed boto3-1.26.11 botocore-1.29.11 ibm-cos-sdk-2.12.0 ibm-cos-sdk-core-2.12.0 ibm-cos-sdk-s3transfer-2.12.0 jmespath-0.10.0 lomond-0.3.3 requests-2.28.1 s3transfer-0.6.0 urllib3-1.26.12 watson-machine-learning-client-1.0.391\n"
          ]
        }
      ]
    },
    {
      "cell_type": "code",
      "source": [
        "!pip install ibm_watson_machine_learning"
      ],
      "metadata": {
        "colab": {
          "base_uri": "https://localhost:8080/"
        },
        "id": "_IvBwTUy4a9P",
        "outputId": "758be240-9308-40bd-c241-fcaf77d9c357"
      },
      "execution_count": 5,
      "outputs": [
        {
          "output_type": "stream",
          "name": "stdout",
          "text": [
            "Looking in indexes: https://pypi.org/simple, https://us-python.pkg.dev/colab-wheels/public/simple/\n",
            "Collecting ibm_watson_machine_learning\n",
            "  Downloading ibm_watson_machine_learning-1.0.257-py3-none-any.whl (1.8 MB)\n",
            "\u001b[K     |████████████████████████████████| 1.8 MB 5.4 MB/s \n",
            "\u001b[?25hRequirement already satisfied: pandas<1.5.0,>=0.24.2 in /usr/local/lib/python3.7/dist-packages (from ibm_watson_machine_learning) (1.3.5)\n",
            "Collecting ibm-cos-sdk==2.7.*\n",
            "  Downloading ibm-cos-sdk-2.7.0.tar.gz (51 kB)\n",
            "\u001b[K     |████████████████████████████████| 51 kB 658 kB/s \n",
            "\u001b[?25hRequirement already satisfied: packaging in /usr/local/lib/python3.7/dist-packages (from ibm_watson_machine_learning) (21.3)\n",
            "Requirement already satisfied: requests in /usr/local/lib/python3.7/dist-packages (from ibm_watson_machine_learning) (2.28.1)\n",
            "Requirement already satisfied: urllib3 in /usr/local/lib/python3.7/dist-packages (from ibm_watson_machine_learning) (1.26.12)\n",
            "Requirement already satisfied: importlib-metadata in /usr/local/lib/python3.7/dist-packages (from ibm_watson_machine_learning) (4.13.0)\n",
            "Requirement already satisfied: lomond in /usr/local/lib/python3.7/dist-packages (from ibm_watson_machine_learning) (0.3.3)\n",
            "Requirement already satisfied: tabulate in /usr/local/lib/python3.7/dist-packages (from ibm_watson_machine_learning) (0.8.10)\n",
            "Requirement already satisfied: certifi in /usr/local/lib/python3.7/dist-packages (from ibm_watson_machine_learning) (2022.9.24)\n",
            "Collecting ibm-cos-sdk-core==2.7.0\n",
            "  Downloading ibm-cos-sdk-core-2.7.0.tar.gz (824 kB)\n",
            "\u001b[K     |████████████████████████████████| 824 kB 39.8 MB/s \n",
            "\u001b[?25hCollecting ibm-cos-sdk-s3transfer==2.7.0\n",
            "  Downloading ibm-cos-sdk-s3transfer-2.7.0.tar.gz (133 kB)\n",
            "\u001b[K     |████████████████████████████████| 133 kB 46.8 MB/s \n",
            "\u001b[?25hRequirement already satisfied: jmespath<1.0.0,>=0.7.1 in /usr/local/lib/python3.7/dist-packages (from ibm-cos-sdk==2.7.*->ibm_watson_machine_learning) (0.10.0)\n",
            "Collecting docutils<0.16,>=0.10\n",
            "  Downloading docutils-0.15.2-py3-none-any.whl (547 kB)\n",
            "\u001b[K     |████████████████████████████████| 547 kB 46.2 MB/s \n",
            "\u001b[?25hRequirement already satisfied: python-dateutil<3.0.0,>=2.1 in /usr/local/lib/python3.7/dist-packages (from ibm-cos-sdk-core==2.7.0->ibm-cos-sdk==2.7.*->ibm_watson_machine_learning) (2.8.2)\n",
            "Requirement already satisfied: numpy>=1.17.3 in /usr/local/lib/python3.7/dist-packages (from pandas<1.5.0,>=0.24.2->ibm_watson_machine_learning) (1.21.6)\n",
            "Requirement already satisfied: pytz>=2017.3 in /usr/local/lib/python3.7/dist-packages (from pandas<1.5.0,>=0.24.2->ibm_watson_machine_learning) (2022.6)\n",
            "Requirement already satisfied: six>=1.5 in /usr/local/lib/python3.7/dist-packages (from python-dateutil<3.0.0,>=2.1->ibm-cos-sdk-core==2.7.0->ibm-cos-sdk==2.7.*->ibm_watson_machine_learning) (1.15.0)\n",
            "Requirement already satisfied: idna<4,>=2.5 in /usr/local/lib/python3.7/dist-packages (from requests->ibm_watson_machine_learning) (2.10)\n",
            "Requirement already satisfied: charset-normalizer<3,>=2 in /usr/local/lib/python3.7/dist-packages (from requests->ibm_watson_machine_learning) (2.1.1)\n",
            "Requirement already satisfied: typing-extensions>=3.6.4 in /usr/local/lib/python3.7/dist-packages (from importlib-metadata->ibm_watson_machine_learning) (4.1.1)\n",
            "Requirement already satisfied: zipp>=0.5 in /usr/local/lib/python3.7/dist-packages (from importlib-metadata->ibm_watson_machine_learning) (3.10.0)\n",
            "Requirement already satisfied: pyparsing!=3.0.5,>=2.0.2 in /usr/local/lib/python3.7/dist-packages (from packaging->ibm_watson_machine_learning) (3.0.9)\n",
            "Building wheels for collected packages: ibm-cos-sdk, ibm-cos-sdk-core, ibm-cos-sdk-s3transfer\n",
            "  Building wheel for ibm-cos-sdk (setup.py) ... \u001b[?25l\u001b[?25hdone\n",
            "  Created wheel for ibm-cos-sdk: filename=ibm_cos_sdk-2.7.0-py2.py3-none-any.whl size=72563 sha256=6f0c6a2027c0cd02e90813e0f55559767e702800dfff69a78623bb3eca6afb77\n",
            "  Stored in directory: /root/.cache/pip/wheels/47/22/bf/e1154ff0f5de93cc477acd0ca69abfbb8b799c5b28a66b44c2\n",
            "  Building wheel for ibm-cos-sdk-core (setup.py) ... \u001b[?25l\u001b[?25hdone\n",
            "  Created wheel for ibm-cos-sdk-core: filename=ibm_cos_sdk_core-2.7.0-py2.py3-none-any.whl size=501013 sha256=dbee6be45d8f7daa070b9bd533ccb55a21037024fe55d82674431e0ae043cd6d\n",
            "  Stored in directory: /root/.cache/pip/wheels/6c/a2/e4/c16d02f809a3ea998e17cfd02c13369281f3d232aaf5902c19\n",
            "  Building wheel for ibm-cos-sdk-s3transfer (setup.py) ... \u001b[?25l\u001b[?25hdone\n",
            "  Created wheel for ibm-cos-sdk-s3transfer: filename=ibm_cos_sdk_s3transfer-2.7.0-py2.py3-none-any.whl size=88622 sha256=79d27fefd4636bace45f78259c602ed56f50259107c8324d2a49a50a8ccf56d5\n",
            "  Stored in directory: /root/.cache/pip/wheels/5f/b7/14/fbe02bc1ef1af890650c7e51743d1c83890852e598d164b9da\n",
            "Successfully built ibm-cos-sdk ibm-cos-sdk-core ibm-cos-sdk-s3transfer\n",
            "Installing collected packages: docutils, ibm-cos-sdk-core, ibm-cos-sdk-s3transfer, ibm-cos-sdk, ibm-watson-machine-learning\n",
            "  Attempting uninstall: docutils\n",
            "    Found existing installation: docutils 0.17.1\n",
            "    Uninstalling docutils-0.17.1:\n",
            "      Successfully uninstalled docutils-0.17.1\n",
            "  Attempting uninstall: ibm-cos-sdk-core\n",
            "    Found existing installation: ibm-cos-sdk-core 2.12.0\n",
            "    Uninstalling ibm-cos-sdk-core-2.12.0:\n",
            "      Successfully uninstalled ibm-cos-sdk-core-2.12.0\n",
            "  Attempting uninstall: ibm-cos-sdk-s3transfer\n",
            "    Found existing installation: ibm-cos-sdk-s3transfer 2.12.0\n",
            "    Uninstalling ibm-cos-sdk-s3transfer-2.12.0:\n",
            "      Successfully uninstalled ibm-cos-sdk-s3transfer-2.12.0\n",
            "  Attempting uninstall: ibm-cos-sdk\n",
            "    Found existing installation: ibm-cos-sdk 2.12.0\n",
            "    Uninstalling ibm-cos-sdk-2.12.0:\n",
            "      Successfully uninstalled ibm-cos-sdk-2.12.0\n",
            "Successfully installed docutils-0.15.2 ibm-cos-sdk-2.7.0 ibm-cos-sdk-core-2.7.0 ibm-cos-sdk-s3transfer-2.7.0 ibm-watson-machine-learning-1.0.257\n"
          ]
        }
      ]
    },
    {
      "cell_type": "code",
      "source": [
        "from ibm_watson_machine_learning import APIClient\n",
        "\n",
        "cloud_credentials={\n",
        "    \"url\":\"https://eu-gb.ml.cloud.ibm.com\",\n",
        "    \"apikey\":\"JjbZw3a4R8S9m1hkHRzyhox5pPW_l5Cc39WxdpFYy_eA\"\n",
        "}\n",
        "\n",
        "client=APIClient(cloud_credentials)"
      ],
      "metadata": {
        "colab": {
          "base_uri": "https://localhost:8080/"
        },
        "id": "yzuX6rN34p06",
        "outputId": "44684fcd-2dcb-485c-92a3-2de483961b16"
      },
      "execution_count": 6,
      "outputs": [
        {
          "output_type": "stream",
          "name": "stdout",
          "text": [
            "Python 3.7 and 3.8 frameworks are deprecated and will be removed in a future release. Use Python 3.9 framework instead.\n"
          ]
        }
      ]
    },
    {
      "cell_type": "code",
      "source": [
        "client.spaces.get_details()"
      ],
      "metadata": {
        "colab": {
          "base_uri": "https://localhost:8080/"
        },
        "id": "vjl2fC4l525A",
        "outputId": "9da7f9e2-6721-42af-d9b2-a9fa1e7407bf"
      },
      "execution_count": 7,
      "outputs": [
        {
          "output_type": "execute_result",
          "data": {
            "text/plain": [
              "{'resources': [{'entity': {'compute': [{'crn': 'crn:v1:bluemix:public:pm-20:eu-gb:a/baf2fc8d7ee845f0b6f7ac004c72284e:66c03ce9-a400-4357-8963-42f65995d1d6::',\n",
              "      'guid': '66c03ce9-a400-4357-8963-42f65995d1d6',\n",
              "      'name': 'Watson Machine Learning-oy',\n",
              "      'type': 'machine_learning'}],\n",
              "    'description': '',\n",
              "    'name': 'realtime_deploy',\n",
              "    'scope': {'bss_account_id': 'baf2fc8d7ee845f0b6f7ac004c72284e'},\n",
              "    'stage': {'production': False},\n",
              "    'status': {'state': 'active'},\n",
              "    'storage': {'properties': {'bucket_name': 'ea8ff2b0-81e6-4923-aa78-fe4cbe1dcd18',\n",
              "      'bucket_region': 'eu-gb-standard',\n",
              "      'credentials': {'admin': {'access_key_id': 'e999e8ed9ad2445ca88ae10af451d567',\n",
              "        'api_key': 'fkP3B06ykhgejJJwiaTEmtxAjRznQ1cnQoFxw6ZYhi2q',\n",
              "        'secret_access_key': '3148c14f7dfbe93c803cd44ab7906253620836f95549b74f',\n",
              "        'service_id': 'ServiceId-a8d83975-cb8a-45b6-8a0b-2ef8c5e46143'},\n",
              "       'editor': {'access_key_id': 'f024630ce04d42339708fac182f0ab39',\n",
              "        'api_key': 'mcCE4FeS7xgQJkxKtxFFqWepQy8KM4GlSCVBCSN-fwUj',\n",
              "        'resource_key_crn': 'crn:v1:bluemix:public:cloud-object-storage:global:a/baf2fc8d7ee845f0b6f7ac004c72284e:b3296065-0e0c-41e2-94ef-9ce2d0f52335::',\n",
              "        'secret_access_key': '7153814f9855ae7da467ce49bbfcfbbac82758402be72ecb',\n",
              "        'service_id': 'ServiceId-c681d0d0-1da1-4b75-a76e-966b2d01ac94'},\n",
              "       'viewer': {'access_key_id': '3a85fecc33094296a617c4fb8671a6a8',\n",
              "        'api_key': 'h7Q07ClgcxsXIiQxTxqrz0810f0RSup7ObHe1CsAsueb',\n",
              "        'resource_key_crn': 'crn:v1:bluemix:public:cloud-object-storage:global:a/baf2fc8d7ee845f0b6f7ac004c72284e:b3296065-0e0c-41e2-94ef-9ce2d0f52335::',\n",
              "        'secret_access_key': '402f3531b91713996a937d5d03b47f6dc8f1392371275b8a',\n",
              "        'service_id': 'ServiceId-f4cdb334-b0d8-4f02-9cff-ffb579be7ad9'}},\n",
              "      'endpoint_url': 'https://s3.eu-gb.cloud-object-storage.appdomain.cloud',\n",
              "      'guid': 'b3296065-0e0c-41e2-94ef-9ce2d0f52335',\n",
              "      'resource_crn': 'crn:v1:bluemix:public:cloud-object-storage:global:a/baf2fc8d7ee845f0b6f7ac004c72284e:b3296065-0e0c-41e2-94ef-9ce2d0f52335::'},\n",
              "     'type': 'bmcos_object_storage'}},\n",
              "   'metadata': {'created_at': '2022-11-12T08:02:21.536Z',\n",
              "    'creator_id': 'IBMid-663003YGW8',\n",
              "    'id': '4afa8b26-897b-4309-b86e-5a89d939e183',\n",
              "    'updated_at': '2022-11-12T08:02:35.769Z',\n",
              "    'url': '/v2/spaces/4afa8b26-897b-4309-b86e-5a89d939e183'}}]}"
            ]
          },
          "metadata": {},
          "execution_count": 7
        }
      ]
    },
    {
      "cell_type": "code",
      "source": [
        "space_uid='4afa8b26-897b-4309-b86e-5a89d939e183'\n",
        "space_uid"
      ],
      "metadata": {
        "colab": {
          "base_uri": "https://localhost:8080/",
          "height": 35
        },
        "id": "yIRdgvo-6MQM",
        "outputId": "2190b58e-ad4d-4b44-d600-da8c3dd04585"
      },
      "execution_count": 8,
      "outputs": [
        {
          "output_type": "execute_result",
          "data": {
            "text/plain": [
              "'4afa8b26-897b-4309-b86e-5a89d939e183'"
            ],
            "application/vnd.google.colaboratory.intrinsic+json": {
              "type": "string"
            }
          },
          "metadata": {},
          "execution_count": 8
        }
      ]
    },
    {
      "cell_type": "code",
      "source": [
        "client.set.default_space(space_uid)"
      ],
      "metadata": {
        "colab": {
          "base_uri": "https://localhost:8080/",
          "height": 35
        },
        "id": "57HTtJn06nRi",
        "outputId": "f33505ab-8853-4022-f7e5-fb4ec51dc50c"
      },
      "execution_count": 9,
      "outputs": [
        {
          "output_type": "execute_result",
          "data": {
            "text/plain": [
              "'SUCCESS'"
            ],
            "application/vnd.google.colaboratory.intrinsic+json": {
              "type": "string"
            }
          },
          "metadata": {},
          "execution_count": 9
        }
      ]
    },
    {
      "cell_type": "code",
      "source": [
        "software_space_uid=client.software_specifications.get_uid_by_name('tensorflow_rt22.1-py3.9')\n",
        "software_space_uid"
      ],
      "metadata": {
        "colab": {
          "base_uri": "https://localhost:8080/",
          "height": 35
        },
        "id": "a4_vuatM6x5P",
        "outputId": "9fedf084-87e2-41f9-bfe9-22d402cbcb97"
      },
      "execution_count": 10,
      "outputs": [
        {
          "output_type": "execute_result",
          "data": {
            "text/plain": [
              "'acd9c798-6974-5d2f-a657-ce06e986df4d'"
            ],
            "application/vnd.google.colaboratory.intrinsic+json": {
              "type": "string"
            }
          },
          "metadata": {},
          "execution_count": 10
        }
      ]
    },
    {
      "cell_type": "code",
      "source": [
        "model_details=client.repository.store_model(model='realtime.tgz',meta_props={\n",
        "    client.repository.ModelMetaNames.NAME:\"REALTIME_CLOUD\",\n",
        "    client.repository.ModelMetaNames.TYPE:\"tensorflow_2.7\",\n",
        "    client.repository.ModelMetaNames.SOFTWARE_SPEC_UID:software_space_uid})"
      ],
      "metadata": {
        "id": "74jn0ROf7TWl"
      },
      "execution_count": 11,
      "outputs": []
    },
    {
      "cell_type": "code",
      "source": [
        "model_details"
      ],
      "metadata": {
        "colab": {
          "base_uri": "https://localhost:8080/"
        },
        "id": "UPnOKqjb8ksY",
        "outputId": "91948736-7b66-4a8a-b6cf-ca6a717154aa"
      },
      "execution_count": 12,
      "outputs": [
        {
          "output_type": "execute_result",
          "data": {
            "text/plain": [
              "{'entity': {'hybrid_pipeline_software_specs': [],\n",
              "  'software_spec': {'id': 'acd9c798-6974-5d2f-a657-ce06e986df4d',\n",
              "   'name': 'tensorflow_rt22.1-py3.9'},\n",
              "  'type': 'tensorflow_2.7'},\n",
              " 'metadata': {'created_at': '2022-11-17T09:34:57.972Z',\n",
              "  'id': '3542a54e-526a-4b42-b638-cedd9d923926',\n",
              "  'modified_at': '2022-11-17T09:35:01.894Z',\n",
              "  'name': 'REALTIME_CLOUD',\n",
              "  'owner': 'IBMid-663003YGW8',\n",
              "  'resource_key': '8c5c06c1-c2d2-481e-8cf5-63e6b0963551',\n",
              "  'space_id': '4afa8b26-897b-4309-b86e-5a89d939e183'},\n",
              " 'system': {'warnings': []}}"
            ]
          },
          "metadata": {},
          "execution_count": 12
        }
      ]
    },
    {
      "cell_type": "code",
      "source": [
        "model_id=client.repository.get_model_id(model_details)\n",
        "model_id"
      ],
      "metadata": {
        "colab": {
          "base_uri": "https://localhost:8080/",
          "height": 35
        },
        "id": "JVyuWrfv810E",
        "outputId": "e32853a8-7df3-4d97-a462-e1a134ea1b15"
      },
      "execution_count": 13,
      "outputs": [
        {
          "output_type": "execute_result",
          "data": {
            "text/plain": [
              "'3542a54e-526a-4b42-b638-cedd9d923926'"
            ],
            "application/vnd.google.colaboratory.intrinsic+json": {
              "type": "string"
            }
          },
          "metadata": {},
          "execution_count": 13
        }
      ]
    },
    {
      "cell_type": "code",
      "source": [
        "client.repository.download(model_id,'REALTIME_CLOUD.tar.gb')"
      ],
      "metadata": {
        "colab": {
          "base_uri": "https://localhost:8080/",
          "height": 53
        },
        "id": "D7QwPv0J9Kvt",
        "outputId": "fb930360-a2f8-47ba-be3c-59fe99aeb9ae"
      },
      "execution_count": 14,
      "outputs": [
        {
          "output_type": "stream",
          "name": "stdout",
          "text": [
            "Successfully saved model content to file: 'REALTIME_CLOUD.tar.gb'\n"
          ]
        },
        {
          "output_type": "execute_result",
          "data": {
            "text/plain": [
              "'/content/REALTIME_CLOUD.tar.gb'"
            ],
            "application/vnd.google.colaboratory.intrinsic+json": {
              "type": "string"
            }
          },
          "metadata": {},
          "execution_count": 14
        }
      ]
    }
  ]
}